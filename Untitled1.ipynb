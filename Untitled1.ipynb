{
 "cells": [
  {
   "cell_type": "code",
   "execution_count": 1,
   "metadata": {
    "collapsed": true
   },
   "outputs": [],
   "source": [
    "import pandas as pd\n",
    "import matplotlib as plt\n",
    "import numpy as np\n",
    "import os\n",
    "import statsmodels.api as sm\n",
    "from scipy import stats\n",
    "import seaborn as sns\n",
    "spath = os.getcwd()\n",
    "gene_id = pd.read_csv('gene_ids.csv')\n",
    "for root, dirs, filenames in os.walk(spath):\n",
    "    for f in filenames:\n",
    "        if f.endswith('isoform_exp.diff'):\n",
    "            x = pd.read_table(os.path.join(root, f))\n",
    "            x = x.rename(columns={ x.columns[9]: \"logFC\" })\n",
    "            y = os.path.basename(root)\n",
    "            x.columns = [str(col) + '_' + y for col in x.columns]\n",
    "            x = x.rename(columns={ x.columns[0]: \"test_id\" })\n",
    "            gene_id = gene_id.merge((x), on = 'test_id', how = 'outer')\n",
    "cols = list(gene_id.columns.values)\n",
    "vals = []\n",
    "for i,y in enumerate(cols):\n",
    "    if 'value' in y:\n",
    "        vals.append(y)\n",
    "    for z in vals:    \n",
    "        if 'p_value' in z:\n",
    "            vals.remove(z)\n",
    "        if 'q_value' in z:\n",
    "            vals.remove(z)\n",
    "for q in vals: \n",
    "    x = 'gene_id.' + str(q) \n",
    "    gene_id = gene_id.drop(gene_id[eval(x) < 1].index)\n",
    "    merged_table = gene_id\n",
    "\n",
    "logs =['test_id']\n",
    "\n",
    "for h,v in enumerate(cols):\n",
    "    if 'log' in v:\n",
    "        logs.append(v)\n",
    "        new_table = merged_table[logs]\n",
    "        "
   ]
  },
  {
   "cell_type": "code",
   "execution_count": 2,
   "metadata": {},
   "outputs": [
    {
     "name": "stderr",
     "output_type": "stream",
     "text": [
      "/Users/tyler-matheny/anaconda3/lib/python3.6/site-packages/ipykernel_launcher.py:3: SettingWithCopyWarning: \n",
      "A value is trying to be set on a copy of a slice from a DataFrame.\n",
      "Try using .loc[row_indexer,col_indexer] = value instead\n",
      "\n",
      "See the caveats in the documentation: http://pandas.pydata.org/pandas-docs/stable/indexing.html#indexing-view-versus-copy\n",
      "  This is separate from the ipykernel package so we can avoid doing imports until\n"
     ]
    }
   ],
   "source": [
    "new = new_table[\"test_id\"].str.partition(\".\")\n",
    "new.columns = ['test_id','blah','err']\n",
    "new_table['test_id'] = new['test_id']\n",
    "length = pd.read_csv('transcriptlengths.csv')\n",
    "length.columns = ['gene_id', 'test_id', 'length']"
   ]
  },
  {
   "cell_type": "code",
   "execution_count": 26,
   "metadata": {},
   "outputs": [],
   "source": [
    "FC_length = new_table.merge(length, on = 'test_id', how = 'left')\n",
    "FC_length['log_length'] = np.log(FC_length['length'])"
   ]
  },
  {
   "cell_type": "code",
   "execution_count": 31,
   "metadata": {},
   "outputs": [],
   "source": [
    "X = FC_length.log_length\n",
    "Y = FC_length.logFC_nostressPEL"
   ]
  },
  {
   "cell_type": "code",
   "execution_count": 32,
   "metadata": {},
   "outputs": [],
   "source": [
    "model = sm.OLS(Y.astype(float),X.astype(float))"
   ]
  },
  {
   "cell_type": "code",
   "execution_count": 33,
   "metadata": {},
   "outputs": [],
   "source": [
    "fit = model.fit()"
   ]
  },
  {
   "cell_type": "code",
   "execution_count": 34,
   "metadata": {},
   "outputs": [
    {
     "data": {
      "text/plain": [
       "log_length    2.313939e-58\n",
       "dtype: float64"
      ]
     },
     "execution_count": 34,
     "metadata": {},
     "output_type": "execute_result"
    }
   ],
   "source": [
    "fit.pvalues"
   ]
  },
  {
   "cell_type": "code",
   "execution_count": 35,
   "metadata": {},
   "outputs": [
    {
     "data": {
      "text/html": [
       "<table class=\"simpletable\">\n",
       "<caption>OLS Regression Results</caption>\n",
       "<tr>\n",
       "  <th>Dep. Variable:</th>    <td>logFC_nostressPEL</td> <th>  R-squared:         </th> <td>   0.010</td> \n",
       "</tr>\n",
       "<tr>\n",
       "  <th>Model:</th>                   <td>OLS</td>        <th>  Adj. R-squared:    </th> <td>   0.010</td> \n",
       "</tr>\n",
       "<tr>\n",
       "  <th>Method:</th>             <td>Least Squares</td>   <th>  F-statistic:       </th> <td>   260.7</td> \n",
       "</tr>\n",
       "<tr>\n",
       "  <th>Date:</th>             <td>Thu, 10 Jan 2019</td>  <th>  Prob (F-statistic):</th> <td>2.31e-58</td> \n",
       "</tr>\n",
       "<tr>\n",
       "  <th>Time:</th>                 <td>16:36:53</td>      <th>  Log-Likelihood:    </th> <td> -29670.</td> \n",
       "</tr>\n",
       "<tr>\n",
       "  <th>No. Observations:</th>      <td> 26103</td>       <th>  AIC:               </th> <td>5.934e+04</td>\n",
       "</tr>\n",
       "<tr>\n",
       "  <th>Df Residuals:</th>          <td> 26102</td>       <th>  BIC:               </th> <td>5.935e+04</td>\n",
       "</tr>\n",
       "<tr>\n",
       "  <th>Df Model:</th>              <td>     1</td>       <th>                     </th>     <td> </td>    \n",
       "</tr>\n",
       "<tr>\n",
       "  <th>Covariance Type:</th>      <td>nonrobust</td>     <th>                     </th>     <td> </td>    \n",
       "</tr>\n",
       "</table>\n",
       "<table class=\"simpletable\">\n",
       "<tr>\n",
       "       <td></td>         <th>coef</th>     <th>std err</th>      <th>t</th>      <th>P>|t|</th>  <th>[0.025</th>    <th>0.975]</th>  \n",
       "</tr>\n",
       "<tr>\n",
       "  <th>log_length</th> <td>   -0.0101</td> <td>    0.001</td> <td>  -16.146</td> <td> 0.000</td> <td>   -0.011</td> <td>   -0.009</td>\n",
       "</tr>\n",
       "</table>\n",
       "<table class=\"simpletable\">\n",
       "<tr>\n",
       "  <th>Omnibus:</th>       <td>762.940</td> <th>  Durbin-Watson:     </th> <td>   1.952</td>\n",
       "</tr>\n",
       "<tr>\n",
       "  <th>Prob(Omnibus):</th> <td> 0.000</td>  <th>  Jarque-Bera (JB):  </th> <td>1475.572</td>\n",
       "</tr>\n",
       "<tr>\n",
       "  <th>Skew:</th>          <td>-0.217</td>  <th>  Prob(JB):          </th> <td>    0.00</td>\n",
       "</tr>\n",
       "<tr>\n",
       "  <th>Kurtosis:</th>      <td> 4.081</td>  <th>  Cond. No.          </th> <td>    1.00</td>\n",
       "</tr>\n",
       "</table><br/><br/>Warnings:<br/>[1] Standard Errors assume that the covariance matrix of the errors is correctly specified."
      ],
      "text/plain": [
       "<class 'statsmodels.iolib.summary.Summary'>\n",
       "\"\"\"\n",
       "                            OLS Regression Results                            \n",
       "==============================================================================\n",
       "Dep. Variable:      logFC_nostressPEL   R-squared:                       0.010\n",
       "Model:                            OLS   Adj. R-squared:                  0.010\n",
       "Method:                 Least Squares   F-statistic:                     260.7\n",
       "Date:                Thu, 10 Jan 2019   Prob (F-statistic):           2.31e-58\n",
       "Time:                        16:36:53   Log-Likelihood:                -29670.\n",
       "No. Observations:               26103   AIC:                         5.934e+04\n",
       "Df Residuals:                   26102   BIC:                         5.935e+04\n",
       "Df Model:                           1                                         \n",
       "Covariance Type:            nonrobust                                         \n",
       "==============================================================================\n",
       "                 coef    std err          t      P>|t|      [0.025      0.975]\n",
       "------------------------------------------------------------------------------\n",
       "log_length    -0.0101      0.001    -16.146      0.000      -0.011      -0.009\n",
       "==============================================================================\n",
       "Omnibus:                      762.940   Durbin-Watson:                   1.952\n",
       "Prob(Omnibus):                  0.000   Jarque-Bera (JB):             1475.572\n",
       "Skew:                          -0.217   Prob(JB):                         0.00\n",
       "Kurtosis:                       4.081   Cond. No.                         1.00\n",
       "==============================================================================\n",
       "\n",
       "Warnings:\n",
       "[1] Standard Errors assume that the covariance matrix of the errors is correctly specified.\n",
       "\"\"\""
      ]
     },
     "execution_count": 35,
     "metadata": {},
     "output_type": "execute_result"
    }
   ],
   "source": [
    "fit.summary()"
   ]
  },
  {
   "cell_type": "code",
   "execution_count": 36,
   "metadata": {},
   "outputs": [
    {
     "data": {
      "text/plain": [
       "<matplotlib.axes._subplots.AxesSubplot at 0x1c175d5a90>"
      ]
     },
     "execution_count": 36,
     "metadata": {},
     "output_type": "execute_result"
    },
    {
     "data": {
      "image/png": "[encoded data removed]",
      "text/plain": [
       "<matplotlib.figure.Figure at 0x1c1707b550>"
      ]
     },
     "metadata": {},
     "output_type": "display_data"
    }
   ],
   "source": [
    "%matplotlib inline\n",
    "sns.kdeplot(Y.astype(float),X.astype(float))"
   ]
  },
  {
   "cell_type": "code",
   "execution_count": null,
   "metadata": {
    "collapsed": true
   },
   "outputs": [],
   "source": []
  }
 ],
 "metadata": {
  "kernelspec": {
   "display_name": "Python 3",
   "language": "python",
   "name": "python3"
  },
  "language_info": {
   "codemirror_mode": {
    "name": "ipython",
    "version": 3
   },
   "file_extension": ".py",
   "mimetype": "text/x-python",
   "name": "python",
   "nbconvert_exporter": "python",
   "pygments_lexer": "ipython3",
   "version": "3.6.8"
  }
 },
 "nbformat": 4,
 "nbformat_minor": 2
}
