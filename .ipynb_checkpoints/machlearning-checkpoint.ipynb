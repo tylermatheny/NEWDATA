{
 "cells": [
  {
   "cell_type": "code",
   "execution_count": 34,
   "metadata": {},
   "outputs": [],
   "source": [
    "import pandas as pd\n",
    "import matplotlib as plt\n",
    "import numpy as np\n",
    "import os\n",
    "import statsmodels.api as sm\n",
    "from scipy import stats\n",
    "import seaborn as sns\n",
    "import glob\n",
    "\n",
    "def merge_cuffdiff(genefile):\n",
    "    spath = os.getcwd()\n",
    "    gene_id = pd.read_csv(genefile)\n",
    "    for root, dirs, filenames in os.walk(spath):\n",
    "        for f in filenames:\n",
    "            if f.endswith('gene_exp.diff'):\n",
    "                x = pd.read_table(os.path.join(root, f))\n",
    "                x = x.rename(columns={ x.columns[9]: \"logFC\" })\n",
    "                y = os.path.basename(root)\n",
    "                x.columns = [str(col) + '_' + y for col in x.columns]\n",
    "                x = x.rename(columns={ x.columns[0]: \"gene_id\" })\n",
    "                gene_id = gene_id.merge((x), on = 'gene_id', how = 'left')\n",
    "    return gene_id\n",
    "\n",
    "def FPKM_restriction():\n",
    "    vals = []   \n",
    "    cols = list(c.columns.values)\n",
    "    for i,y in enumerate(cols):\n",
    "        if 'value' in y:\n",
    "            vals.append(y)\n",
    "        for z in vals:    \n",
    "            if 'p_value' in z:\n",
    "                vals.remove(z)\n",
    "            if 'q_value' in z:\n",
    "                vals.remove(z)\n",
    "    for q in vals: \n",
    "        x = 'gene_id.' + str(q) \n",
    "        gene_id = c.drop(c[eval(x) < 1].index)\n",
    "        merged_table = gene_id\n",
    "    return merged_table\n",
    "    "
   ]
  },
  {
   "cell_type": "code",
   "execution_count": 35,
   "metadata": {},
   "outputs": [],
   "source": [
    "c = merge_cuffdiff('geneNames.csv')\n"
   ]
  },
  {
   "cell_type": "code",
   "execution_count": 38,
   "metadata": {},
   "outputs": [],
   "source": [
    "cols = list(c.columns.values)"
   ]
  },
  {
   "cell_type": "code",
   "execution_count": null,
   "metadata": {},
   "outputs": [],
   "source": []
  },
  {
   "cell_type": "code",
   "execution_count": 42,
   "metadata": {},
   "outputs": [],
   "source": [
    "vals = []   \n",
    "cols = list(c.columns.values)\n",
    "for i,y in enumerate(cols):\n",
    "    if 'value' in y:\n",
    "        vals.append(y)\n",
    "    for z in vals:    \n",
    "        if 'p_value' in z:\n",
    "            vals.remove(z)\n",
    "        if 'q_value' in z:\n",
    "            vals.remove(z)\n",
    "#for q in vals: \n",
    "#    x = 'gene_id.' + str(q) \n",
    "#    c = c.drop(c[eval(x) < 1].index)\n",
    "#    merged_table = c\n",
    "#return merged_table"
   ]
  },
  {
   "cell_type": "code",
   "execution_count": null,
   "metadata": {
    "collapsed": true
   },
   "outputs": [],
   "source": []
  }
 ],
 "metadata": {
  "kernelspec": {
   "display_name": "Python 3",
   "language": "python",
   "name": "python3"
  },
  "language_info": {
   "codemirror_mode": {
    "name": "ipython",
    "version": 3
   },
   "file_extension": ".py",
   "mimetype": "text/x-python",
   "name": "python",
   "nbconvert_exporter": "python",
   "pygments_lexer": "ipython3",
   "version": "3.6.8"
  }
 },
 "nbformat": 4,
 "nbformat_minor": 2
}
