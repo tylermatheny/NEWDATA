{
 "cells": [
  {
   "cell_type": "code",
   "execution_count": 4,
   "metadata": {
    "collapsed": true
   },
   "outputs": [],
   "source": [
    "import os as os\n",
    "import pandas as pd\n",
    "import statsmodels.api as sm\n",
    "import numpy as np\n",
    "import seaborn as sns\n",
    "import matplotlib as plt"
   ]
  },
  {
   "cell_type": "code",
   "execution_count": 20,
   "metadata": {},
   "outputs": [
    {
     "name": "stderr",
     "output_type": "stream",
     "text": [
      "/Users/tyler-matheny/anaconda3/lib/python3.6/site-packages/pandas/core/frame.py:3140: SettingWithCopyWarning: \n",
      "A value is trying to be set on a copy of a slice from a DataFrame.\n",
      "Try using .loc[row_indexer,col_indexer] = value instead\n",
      "\n",
      "See the caveats in the documentation: http://pandas.pydata.org/pandas-docs/stable/indexing.html#indexing-view-versus-copy\n",
      "  self[k1] = value[k2]\n"
     ]
    },
    {
     "name": "stdout",
     "output_type": "stream",
     "text": [
      "linear model intercept: 0.6954794482732266\n",
      "linear model coeff:\n",
      "[-5.86e-01  2.37e-07  1.32e-02 -9.64e-02]\n",
      "R-squared score (training): 0.721\n",
      "R-squared score (test): 0.722\n"
     ]
    }
   ],
   "source": [
    "data = pd.read_csv('MERGED2016_17_PP.csv',low_memory = False)\n",
    "newframe = data[['INSTNM', 'RPY_3YR_RT','TUITIONFEE_IN', 'RPY_5YR_RT','CDR3','PREDDEG', 'MALE_RPY_3YR_RT','PCTFLOAN','FEMALE_RPY_3YR_RT', 'ACTCMMID', 'PELL_EVER', 'UGDS_WHITE', 'UGDS_BLACK','UGDS_HISP', 'UGDS_ASIAN']]\n",
    "newframe.set_index('INSTNM')\n",
    "cols = newframe.columns.drop('INSTNM')\n",
    "newframe[cols] = newframe[cols].apply(pd.to_numeric, errors='coerce')\n",
    "newframe = newframe.loc[newframe['PREDDEG'] == 3]\n",
    "newframe2 = newframe.dropna()\n",
    "%matplotlib notebook\n",
    "import numpy as np\n",
    "import pandas as pd\n",
    "import seaborn as sn\n",
    "import matplotlib.pyplot as plt\n",
    "\n",
    "from sklearn.model_selection import train_test_split\n",
    "from sklearn.neighbors import KNeighborsClassifier\n",
    "from sklearn.linear_model import LinearRegression\n",
    "\n",
    "np.set_printoptions(precision=2)\n",
    "\n",
    "\n",
    "\n",
    "feature_names_loan = ['PELL_EVER', 'TUITIONFEE_IN', 'ACTCMMID','PCTFLOAN',]\n",
    "X_loan = newframe2[feature_names_loan]\n",
    "y_loan = newframe2['RPY_3YR_RT']\n",
    "X_train, X_test, y_train, y_test = train_test_split(X_loan, y_loan,\n",
    "                                                   random_state = 0)\n",
    "linreg = LinearRegression().fit(X_train, y_train)\n",
    "\n",
    "print('linear model intercept: {}'\n",
    "     .format(linreg.intercept_))\n",
    "print('linear model coeff:\\n{}'\n",
    "     .format(linreg.coef_))\n",
    "print('R-squared score (training): {:.3f}'\n",
    "     .format(linreg.score(X_train, y_train)))\n",
    "print('R-squared score (test): {:.3f}'\n",
    "     .format(linreg.score(X_test, y_test)))"
   ]
  },
  {
   "cell_type": "code",
   "execution_count": 31,
   "metadata": {},
   "outputs": [
    {
     "name": "stderr",
     "output_type": "stream",
     "text": [
      "/Users/tyler-matheny/anaconda3/lib/python3.6/site-packages/pandas/core/frame.py:3140: SettingWithCopyWarning: \n",
      "A value is trying to be set on a copy of a slice from a DataFrame.\n",
      "Try using .loc[row_indexer,col_indexer] = value instead\n",
      "\n",
      "See the caveats in the documentation: http://pandas.pydata.org/pandas-docs/stable/indexing.html#indexing-view-versus-copy\n",
      "  self[k1] = value[k2]\n"
     ]
    }
   ],
   "source": [
    "data = pd.read_csv('MERGED2009_10_PP.csv',low_memory = False)\n",
    "newframe = data[['INSTNM', 'RPY_3YR_RT','TUITIONFEE_IN','CDR3','PREDDEG', 'MALE_RPY_3YR_RT','PCTFLOAN','FEMALE_RPY_3YR_RT', 'ACTCMMID', 'PELL_EVER', 'UGDS_WHITE', 'UGDS_BLACK','UGDS_HISP', 'UGDS_ASIAN']]\n",
    "newframe.set_index('INSTNM')\n",
    "cols = newframe.columns.drop('INSTNM')\n",
    "newframe[cols] = newframe[cols].apply(pd.to_numeric, errors='coerce')\n",
    "newframe = newframe.loc[newframe['PREDDEG'] == 3]\n",
    "newframe2 = newframe.dropna()\n"
   ]
  },
  {
   "cell_type": "code",
   "execution_count": null,
   "metadata": {},
   "outputs": [],
   "source": [
    "newframe.set_index('INSTNM')\n",
    "cols = newframe.columns.drop('INSTNM')\n",
    "newframe[cols] = newframe[cols].apply(pd.to_numeric, errors='coerce')\n",
    "newframe = newframe.loc[newframe['PREDDEG'] == 3]\n",
    "newframe = newframe.dropna()\n",
    "newframe"
   ]
  },
  {
   "cell_type": "code",
   "execution_count": null,
   "metadata": {},
   "outputs": [],
   "source": [
    "X = newframe['TUITIONFEE_IN']\n",
    "Y = newframe['ACTCMMID']\n",
    "sns.regplot(X.astype(float), Y.astype(float))"
   ]
  },
  {
   "cell_type": "code",
   "execution_count": 32,
   "metadata": {},
   "outputs": [],
   "source": [
    "newframe.to_csv('/Users/tyler-matheny/Desktop/loandata2009.csv')"
   ]
  },
  {
   "cell_type": "code",
   "execution_count": null,
   "metadata": {
    "collapsed": true
   },
   "outputs": [],
   "source": [
    "NEWVAR = data['TUITIONFEE_IN'] / data['TUITIONFEE_OUT']\n",
    "newframe['ratio'] = NEWVAR\n"
   ]
  },
  {
   "cell_type": "code",
   "execution_count": null,
   "metadata": {
    "collapsed": true
   },
   "outputs": [],
   "source": [
    "crap_degrees = newframe['PCIP24'] + newframe['PCIP23']\n",
    "Y = newframe['RPY_3YR_RT']\n",
    "X = newframe['PCTFLOAN']\n",
    "%matplotlib inline\n",
    "sns.regplot(X, Y)\n"
   ]
  },
  {
   "cell_type": "code",
   "execution_count": null,
   "metadata": {
    "collapsed": true
   },
   "outputs": [],
   "source": [
    "crap_degrees = newframe['PCIP24'] + newframe['PCIP23']\n",
    "Y = newframe['RPY_3YR_RT']\n",
    "X = newframe['UGDS_WHITE']\n",
    "%matplotlib inline\n",
    "sns.regplot(X, Y)\n"
   ]
  },
  {
   "cell_type": "code",
   "execution_count": null,
   "metadata": {
    "collapsed": true
   },
   "outputs": [],
   "source": [
    "crap_degrees = newframe['PCIP24'] + newframe['PCIP23']\n",
    "Y = newframe['TUITIONFEE_OUT']\n",
    "X = newframe['UGDS_BLACK'] \n",
    "Z = newframe['TUITIONFEE_IN']\n",
    "%matplotlib inline\n",
    "sns.regplot(Z, Y)"
   ]
  },
  {
   "cell_type": "code",
   "execution_count": null,
   "metadata": {
    "collapsed": true
   },
   "outputs": [],
   "source": [
    "x = newframe['FEMALE_RPY_3YR_RT']\n",
    "x.median()\n",
    "y = newframe['MALE_RPY_3YR_RT']\n",
    "y.median()\n",
    "z = newframe['FEMALE_RPY_3YR_RT'] / newframe['MALE_RPY_3YR_RT']"
   ]
  },
  {
   "cell_type": "code",
   "execution_count": null,
   "metadata": {
    "collapsed": true
   },
   "outputs": [],
   "source": [
    "z.median()"
   ]
  },
  {
   "cell_type": "code",
   "execution_count": null,
   "metadata": {
    "collapsed": true
   },
   "outputs": [],
   "source": [
    "X = newframe['CDR3']\n",
    "Y = newframe['RPY_3YR_RT']\n",
    "sns.regplot(X.astype(float), Y.astype(float))\n",
    "\n"
   ]
  },
  {
   "cell_type": "code",
   "execution_count": null,
   "metadata": {
    "collapsed": true
   },
   "outputs": [],
   "source": [
    "Y.min()"
   ]
  },
  {
   "cell_type": "code",
   "execution_count": null,
   "metadata": {},
   "outputs": [],
   "source": [
    "%matplotlib notebook\n",
    "import numpy as np\n",
    "import pandas as pd\n",
    "import seaborn as sn\n",
    "import matplotlib.pyplot as plt\n",
    "\n",
    "from sklearn.model_selection import train_test_split\n",
    "from sklearn.neighbors import KNeighborsClassifier\n",
    "from sklearn.linear_model import LinearRegression\n",
    "\n",
    "np.set_printoptions(precision=2)\n",
    "\n",
    "newframe = newframe.dropna()\n",
    "\n",
    "feature_names_loan = ['PELL_EVER', 'TUITIONFEE_IN']\n",
    "X_loan = newframe[feature_names_loan]\n",
    "y_loan = newframe['RPY_3YR_RT']\n",
    "X_train, X_test, y_train, y_test = train_test_split(X_loan, y_loan,\n",
    "                                                   random_state = 0)\n",
    "linreg = LinearRegression().fit(X_train, y_train)\n",
    "\n",
    "print('linear model intercept: {}'\n",
    "     .format(linreg.intercept_))\n",
    "print('linear model coeff:\\n{}'\n",
    "     .format(linreg.coef_))\n",
    "print('R-squared score (training): {:.3f}'\n",
    "     .format(linreg.score(X_train, y_train)))\n",
    "print('R-squared score (test): {:.3f}'\n",
    "     .format(linreg.score(X_test, y_test)))\n",
    "\n"
   ]
  },
  {
   "cell_type": "code",
   "execution_count": null,
   "metadata": {
    "collapsed": true
   },
   "outputs": [],
   "source": []
  }
 ],
 "metadata": {
  "kernelspec": {
   "display_name": "Python 3",
   "language": "python",
   "name": "python3"
  },
  "language_info": {
   "codemirror_mode": {
    "name": "ipython",
    "version": 3
   },
   "file_extension": ".py",
   "mimetype": "text/x-python",
   "name": "python",
   "nbconvert_exporter": "python",
   "pygments_lexer": "ipython3",
   "version": "3.6.8"
  }
 },
 "nbformat": 4,
 "nbformat_minor": 2
}
